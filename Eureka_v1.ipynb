{
 "cells": [
  {
   "cell_type": "code",
   "execution_count": 1,
   "metadata": {},
   "outputs": [
    {
     "name": "stdout",
     "output_type": "stream",
     "text": [
      "      vix_close w5_8_13_signal mfi_signal eom_signal cmf_signal Signal  \\\n",
      "0           NaN              0          0          0          0      0   \n",
      "1     12.330000              0          0    bullish          0      0   \n",
      "2     12.250000              0          0    bullish          0      0   \n",
      "3     12.120000              0          0    bullish          0      0   \n",
      "4     12.290000              0          0    bullish          0      0   \n",
      "...         ...            ...        ...        ...        ...    ...   \n",
      "7911        NaN            NaN        NaN        NaN        NaN    NaN   \n",
      "7912  17.459999            NaN        NaN        NaN        NaN    NaN   \n",
      "7913  17.940001            NaN        NaN        NaN        NaN    NaN   \n",
      "7914  15.650000            NaN        NaN        NaN        NaN    NaN   \n",
      "7915  14.600000            NaN        NaN        NaN        NaN    NaN   \n",
      "\n",
      "     trend_strength cmf_signal 5_8_13_signal ma_direction  ... roc_signal  \\\n",
      "0                 0          0             0            0  ...          0   \n",
      "1                 0          0             0            0  ...          0   \n",
      "2                 0          0             0            0  ...          0   \n",
      "3                 0          0             0            0  ...          0   \n",
      "4                 0          0             0            0  ...          0   \n",
      "...             ...        ...           ...          ...  ...        ...   \n",
      "7911            NaN        NaN           NaN          NaN  ...        NaN   \n",
      "7912            NaN        NaN           NaN          NaN  ...        NaN   \n",
      "7913            NaN        NaN           NaN          NaN  ...        NaN   \n",
      "7914            NaN        NaN           NaN          NaN  ...        NaN   \n",
      "7915            NaN        NaN           NaN          NaN  ...        NaN   \n",
      "\n",
      "     rsi_signal stochrsi_signal stoch_signal tsi_signal williams_signal  \\\n",
      "0             0               0            0          0               0   \n",
      "1             0               0            0          0               0   \n",
      "2             0               0            0          0               0   \n",
      "3             0               0            0          0               0   \n",
      "4             0               0            0          0               0   \n",
      "...         ...             ...          ...        ...             ...   \n",
      "7911        NaN             NaN          NaN        NaN             NaN   \n",
      "7912        NaN             NaN          NaN        NaN             NaN   \n",
      "7913        NaN             NaN          NaN        NaN             NaN   \n",
      "7914        NaN             NaN          NaN        NaN             NaN   \n",
      "7915        NaN             NaN          NaN        NaN             NaN   \n",
      "\n",
      "     kama_cross_signal kama_signal PPO_signal Ao_signal  \n",
      "0                    0         0.0          0         0  \n",
      "1                    0         0.0          0         0  \n",
      "2                    0         0.0          0         0  \n",
      "3                    0         0.0          0         0  \n",
      "4                    0         0.0          0         0  \n",
      "...                ...         ...        ...       ...  \n",
      "7911               NaN         NaN        NaN       NaN  \n",
      "7912               NaN         NaN        NaN       NaN  \n",
      "7913               NaN         NaN        NaN       NaN  \n",
      "7914               NaN         NaN        NaN       NaN  \n",
      "7915               NaN         NaN        NaN       NaN  \n",
      "\n",
      "[7916 rows x 38 columns]\n"
     ]
    }
   ],
   "source": [
    "# Read in Library\n",
    "import pandas as pd\n",
    "import pandas as pd\n",
    "from ta import add_all_ta_features\n",
    "import call_Strategies "
   ]
  },
  {
   "cell_type": "markdown",
   "metadata": {},
   "source": [
    "Read in SPY OHLCV Data from 10/29/1993 to 06/02/2023"
   ]
  },
  {
   "cell_type": "code",
   "execution_count": 2,
   "metadata": {},
   "outputs": [],
   "source": [
    "# Read in Price Data\n",
    "csv_file = 'SPY.csv'\n",
    "stock_df = pd.read_csv(csv_file)"
   ]
  },
  {
   "cell_type": "markdown",
   "metadata": {},
   "source": [
    "Read in Underlining Stock Financial data like \n",
    "- Dividend rate \n",
    "- P/E\n",
    "- Market Cap\n",
    "- "
   ]
  },
  {
   "cell_type": "code",
   "execution_count": 3,
   "metadata": {},
   "outputs": [],
   "source": [
    "# Stock Financial Data\n"
   ]
  },
  {
   "cell_type": "markdown",
   "metadata": {},
   "source": [
    "Load Indicators"
   ]
  },
  {
   "cell_type": "code",
   "execution_count": 4,
   "metadata": {},
   "outputs": [
    {
     "name": "stderr",
     "output_type": "stream",
     "text": [
      "c:\\Users\\zebfr\\anaconda3\\lib\\site-packages\\ta\\trend.py:780: RuntimeWarning: invalid value encountered in double_scalars\n",
      "  dip[idx] = 100 * (self._dip[idx] / value)\n",
      "c:\\Users\\zebfr\\anaconda3\\lib\\site-packages\\ta\\trend.py:785: RuntimeWarning: invalid value encountered in double_scalars\n",
      "  din[idx] = 100 * (self._din[idx] / value)\n"
     ]
    }
   ],
   "source": [
    "# Indicators\n",
    "indicators_df = pd.DataFrame(index=stock_df.index)\n",
    "\n",
    "# Add all technical indicators using TA library\n",
    "indicators_df = add_all_ta_features(\n",
    "    stock_df, open=\"Open\", high=\"High\", low=\"Low\", close=\"Close\", volume=\"Volume\", fillna=False\n",
    ")\n"
   ]
  },
  {
   "cell_type": "markdown",
   "metadata": {},
   "source": [
    "Load all Strategy signals. \n",
    "- bullish/bearish\n",
    "- buy/sell\n",
    "- overbought/oversold\n",
    "- strong/weak (trend)"
   ]
  },
  {
   "cell_type": "code",
   "execution_count": 5,
   "metadata": {},
   "outputs": [
    {
     "name": "stdout",
     "output_type": "stream",
     "text": [
      "      vix_close w5_8_13_signal mfi_signal eom_signal cmf_signal Signal  \\\n",
      "0           NaN              0          0          0          0      0   \n",
      "1     12.330000              0          0    bullish          0      0   \n",
      "2     12.250000              0          0    bullish          0      0   \n",
      "3     12.120000              0          0    bullish          0      0   \n",
      "4     12.290000              0          0    bullish          0      0   \n",
      "...         ...            ...        ...        ...        ...    ...   \n",
      "7911        NaN            NaN        NaN        NaN        NaN    NaN   \n",
      "7912  17.459999            NaN        NaN        NaN        NaN    NaN   \n",
      "7913  17.940001            NaN        NaN        NaN        NaN    NaN   \n",
      "7914  15.650000            NaN        NaN        NaN        NaN    NaN   \n",
      "7915  14.600000            NaN        NaN        NaN        NaN    NaN   \n",
      "\n",
      "     trend_strength cmf_signal 5_8_13_signal ma_direction  ... roc_signal  \\\n",
      "0                 0          0             0            0  ...          0   \n",
      "1                 0          0             0            0  ...          0   \n",
      "2                 0          0             0            0  ...          0   \n",
      "3                 0          0             0            0  ...          0   \n",
      "4                 0          0             0            0  ...          0   \n",
      "...             ...        ...           ...          ...  ...        ...   \n",
      "7911            NaN        NaN           NaN          NaN  ...        NaN   \n",
      "7912            NaN        NaN           NaN          NaN  ...        NaN   \n",
      "7913            NaN        NaN           NaN          NaN  ...        NaN   \n",
      "7914            NaN        NaN           NaN          NaN  ...        NaN   \n",
      "7915            NaN        NaN           NaN          NaN  ...        NaN   \n",
      "\n",
      "     rsi_signal stochrsi_signal stoch_signal tsi_signal williams_signal  \\\n",
      "0             0               0            0          0               0   \n",
      "1             0               0            0          0               0   \n",
      "2             0               0            0          0               0   \n",
      "3             0               0            0          0               0   \n",
      "4             0               0            0          0               0   \n",
      "...         ...             ...          ...        ...             ...   \n",
      "7911        NaN             NaN          NaN        NaN             NaN   \n",
      "7912        NaN             NaN          NaN        NaN             NaN   \n",
      "7913        NaN             NaN          NaN        NaN             NaN   \n",
      "7914        NaN             NaN          NaN        NaN             NaN   \n",
      "7915        NaN             NaN          NaN        NaN             NaN   \n",
      "\n",
      "     kama_cross_signal kama_signal PPO_signal Ao_signal  \n",
      "0                    0         0.0          0         0  \n",
      "1                    0         0.0          0         0  \n",
      "2                    0         0.0          0         0  \n",
      "3                    0         0.0          0         0  \n",
      "4                    0         0.0          0         0  \n",
      "...                ...         ...        ...       ...  \n",
      "7911               NaN         NaN        NaN       NaN  \n",
      "7912               NaN         NaN        NaN       NaN  \n",
      "7913               NaN         NaN        NaN       NaN  \n",
      "7914               NaN         NaN        NaN       NaN  \n",
      "7915               NaN         NaN        NaN       NaN  \n",
      "\n",
      "[7916 rows x 38 columns]\n"
     ]
    }
   ],
   "source": [
    "# Strategy Signals\n",
    "all_signals_df = call_Strategies.generate_all_signals('SPY.csv', 'VIX.csv')\n",
    "print(all_signals_df)\n"
   ]
  },
  {
   "cell_type": "markdown",
   "metadata": {},
   "source": [
    "Load True signals\n",
    "\n",
    "True Signals is a csv of the most optimal buy and sell points and close of position in SPY from 01/29/1993 to 06/02/2023. It consists of a 'signals' and 'close_position' column. \"long\" in the 'signals' column reprsents opening a buy poistion and \"short\" represents opening a sell position. A 1 in the 'close_position' column represents closing any current open position (buy or sell). It is backtested in the true signals folder.\n",
    "\n",
    "It is important to read conditions of 'close_position' column first so that you close your current position before reading the 'signals' column and opening a new one"
   ]
  },
  {
   "cell_type": "code",
   "execution_count": 10,
   "metadata": {},
   "outputs": [
    {
     "name": "stdout",
     "output_type": "stream",
     "text": [
      "            Date       Close signals  close_position \n",
      "0     1993-01-29   43.937500    long              NaN\n",
      "1     1993-02-01   44.250000     NaN              NaN\n",
      "2     1993-02-02   44.343750     NaN              NaN\n",
      "3     1993-02-03   44.812500     NaN              NaN\n",
      "4     1993-02-04   45.000000     NaN              1.0\n",
      "...          ...         ...     ...              ...\n",
      "7636  2023-05-26  420.019989     NaN              NaN\n",
      "7637  2023-05-30  420.179993     NaN              NaN\n",
      "7638  2023-05-31  417.850006     NaN              NaN\n",
      "7639  2023-06-01  421.820007     NaN              NaN\n",
      "7640  2023-06-02  427.920013     NaN              NaN\n",
      "\n",
      "[7641 rows x 4 columns]\n"
     ]
    }
   ],
   "source": [
    "# True Signals\n",
    "true_signals_df = pd.read_csv(\"./true_signals/SPY_true_signals.csv\")\n",
    "print(true_signals_df)"
   ]
  },
  {
   "cell_type": "markdown",
   "metadata": {},
   "source": [
    "Merge all Dataframes"
   ]
  },
  {
   "cell_type": "code",
   "execution_count": 9,
   "metadata": {},
   "outputs": [],
   "source": [
    "# Pre-process Data\n",
    "merge_df = pd.concat([indicators_df, all_signals_df, true_signals_df], axis = 1)"
   ]
  },
  {
   "cell_type": "code",
   "execution_count": null,
   "metadata": {},
   "outputs": [],
   "source": [
    "# Models\n"
   ]
  },
  {
   "cell_type": "code",
   "execution_count": null,
   "metadata": {},
   "outputs": [],
   "source": [
    "# Predict Buy/Sell Condition\n"
   ]
  },
  {
   "cell_type": "code",
   "execution_count": null,
   "metadata": {},
   "outputs": [],
   "source": [
    "# Evaluate\n"
   ]
  }
 ],
 "metadata": {
  "kernelspec": {
   "display_name": "base",
   "language": "python",
   "name": "python3"
  },
  "language_info": {
   "codemirror_mode": {
    "name": "ipython",
    "version": 3
   },
   "file_extension": ".py",
   "mimetype": "text/x-python",
   "name": "python",
   "nbconvert_exporter": "python",
   "pygments_lexer": "ipython3",
   "version": "3.10.9"
  },
  "orig_nbformat": 4
 },
 "nbformat": 4,
 "nbformat_minor": 2
}
