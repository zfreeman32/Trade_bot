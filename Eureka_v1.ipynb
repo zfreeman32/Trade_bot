{
 "cells": [
  {
   "cell_type": "code",
   "execution_count": 6,
   "metadata": {},
   "outputs": [
    {
     "name": "stdout",
     "output_type": "stream",
     "text": [
      "     eom_signal\n",
      "0             0\n",
      "1       bullish\n",
      "2       bullish\n",
      "3       bullish\n",
      "4       bullish\n",
      "...         ...\n",
      "7636    bullish\n",
      "7637    bullish\n",
      "7638    bearish\n",
      "7639    bullish\n",
      "7640    bullish\n",
      "\n",
      "[7641 rows x 1 columns]\n"
     ]
    }
   ],
   "source": [
    "# Read in Library\n",
    "import pandas as pd\n",
    "import numpy as np\n",
    "import pandas as pd\n",
    "import statistics\n",
    "import matplotlib.pyplot as plt\n",
    "import pandas as pd\n",
    "from ta import add_all_ta_features\n",
    "from ta import momentum\n",
    "import all_Strategies\n"
   ]
  },
  {
   "cell_type": "code",
   "execution_count": 3,
   "metadata": {},
   "outputs": [],
   "source": [
    "# Read in Price Data\n",
    "csv_file = 'SPY.csv'\n",
    "stock_df = pd.read_csv(csv_file)\n"
   ]
  },
  {
   "cell_type": "code",
   "execution_count": 4,
   "metadata": {},
   "outputs": [],
   "source": [
    "# Stock Financial Data\n"
   ]
  },
  {
   "cell_type": "markdown",
   "metadata": {},
   "source": [
    "Load Indicators"
   ]
  },
  {
   "cell_type": "code",
   "execution_count": 4,
   "metadata": {},
   "outputs": [
    {
     "name": "stderr",
     "output_type": "stream",
     "text": [
      "c:\\Users\\zebfr\\anaconda3\\lib\\site-packages\\ta\\trend.py:780: RuntimeWarning: invalid value encountered in double_scalars\n",
      "  dip[idx] = 100 * (self._dip[idx] / value)\n",
      "c:\\Users\\zebfr\\anaconda3\\lib\\site-packages\\ta\\trend.py:785: RuntimeWarning: invalid value encountered in double_scalars\n",
      "  din[idx] = 100 * (self._din[idx] / value)\n"
     ]
    }
   ],
   "source": [
    "# Indicators\n",
    "indicators_df = pd.DataFrame(index=stock_df.index)\n",
    "\n",
    "# Add all technical indicators using TA library\n",
    "indicators_df = add_all_ta_features(\n",
    "    stock_df, open=\"Open\", high=\"High\", low=\"Low\", close=\"Close\", volume=\"Volume\", fillna=False\n",
    ")\n"
   ]
  },
  {
   "cell_type": "markdown",
   "metadata": {},
   "source": [
    "STRATEGIES"
   ]
  },
  {
   "cell_type": "code",
   "execution_count": 7,
   "metadata": {},
   "outputs": [
    {
     "name": "stdout",
     "output_type": "stream",
     "text": [
      "     w5_8_13_signal mfi_signal eom_signal cmf_signal   Signal trend_strength  \\\n",
      "0                 0          0          0          0        0              0   \n",
      "1                 0          0    bullish          0        0              0   \n",
      "2                 0          0    bullish          0        0              0   \n",
      "3                 0          0    bullish          0        0              0   \n",
      "4                 0          0    bullish          0        0              0   \n",
      "...             ...        ...        ...        ...      ...            ...   \n",
      "7636              0          0    bullish          0  bearish           weak   \n",
      "7637        bearish          0    bullish          0  bearish           weak   \n",
      "7638        bearish          0    bearish          0  bearish           weak   \n",
      "7639        bearish          0    bullish    bearish  bearish         strong   \n",
      "7640        bearish          0    bullish    bearish  bearish         strong   \n",
      "\n",
      "     cmf_signal 5_8_13_signal ma_direction ma_signal  ... roc_signal  \\\n",
      "0             0             0            0         0  ...          0   \n",
      "1             0             0            0         0  ...          0   \n",
      "2             0             0            0         0  ...          0   \n",
      "3             0             0            0         0  ...          0   \n",
      "4             0             0            0         0  ...          0   \n",
      "...         ...           ...          ...       ...  ...        ...   \n",
      "7636          0             0      bullish         0  ...          0   \n",
      "7637          0             0      bullish         0  ...          0   \n",
      "7638          0             0      bullish         0  ...          0   \n",
      "7639    bearish       bearish      bullish         0  ...          0   \n",
      "7640    bearish       bearish      bullish         0  ...          0   \n",
      "\n",
      "     rsi_signal stochrsi_signal stoch_signal tsi_signal williams_signal  \\\n",
      "0             0               0            0          0               0   \n",
      "1             0               0            0          0               0   \n",
      "2             0               0            0          0               0   \n",
      "3             0               0            0          0               0   \n",
      "4             0               0            0          0               0   \n",
      "...         ...             ...          ...        ...             ...   \n",
      "7636          0      overbought            0          0        oversold   \n",
      "7637          0      overbought            0          0        oversold   \n",
      "7638          0               0         sell          0               0   \n",
      "7639          0      overbought          buy          0        oversold   \n",
      "7640          0      overbought            0          0        oversold   \n",
      "\n",
      "     kama_cross_signal kama_signal PPO_signal Ao_signal  \n",
      "0                    0           0          0         0  \n",
      "1                    0           0          0         0  \n",
      "2                    0           0          0         0  \n",
      "3                    0           0          0         0  \n",
      "4                    0           0          0         0  \n",
      "...                ...         ...        ...       ...  \n",
      "7636                 0           0       sell         0  \n",
      "7637                 0           0          0         0  \n",
      "7638                 0           0          0         0  \n",
      "7639                 0           0          0         0  \n",
      "7640                 0           0          0         0  \n",
      "\n",
      "[7641 rows x 37 columns]\n"
     ]
    }
   ],
   "source": [
    "# Strategy Signals\n",
    "# Call your functions and store their results in separate DataFrames\n",
    "ppo_signals_df = all_Strategies.ppo_signals(stock_df)\n",
    "awesome_oscillator_signals_df = all_Strategies.Awesome_Oscillator_signals(stock_df)\n",
    "kama_cross_signals_df = all_Strategies.kama_cross_signals(stock_df)\n",
    "williams_signals_df = all_Strategies.williams_signals(stock_df)\n",
    "tsi_signals_df = all_Strategies.tsi_signals(stock_df)\n",
    "stoch_signals_df = all_Strategies.stoch_signals(stock_df)\n",
    "roc_signals_df = all_Strategies.roc_signals(stock_df)\n",
    "rsi_signals_df = all_Strategies.rsi_signals(stock_df)\n",
    "stochrsi_signals_df = all_Strategies.stochrsi_signals(stock_df)\n",
    "aroon_signals_df = all_Strategies.aroon_strategy(stock_df)\n",
    "cci_signals_df = all_Strategies.cci_signals(stock_df)\n",
    "dpo_signals_df = all_Strategies.dpo_signals(stock_df)\n",
    "ema_signals_df = all_Strategies.ema_signals(stock_df)\n",
    "ichimoku_signals_df = all_Strategies.ichimoku_signals(stock_df)\n",
    "kst_signals_df = all_Strategies.kst_signals(stock_df)\n",
    "macd_signals_df = all_Strategies.macd_signals(stock_df)\n",
    "golden_ma_signals_df = all_Strategies.golden_ma_signals(stock_df)\n",
    "short_ma_signals_df = all_Strategies.short_ma_signals(stock_df)\n",
    "strategy_5_8_13_df = all_Strategies.strategy_5_8_13(stock_df)\n",
    "atr_signals_df = all_Strategies.atr_signals(stock_df)\n",
    "keltner_channel_strategy_df = all_Strategies.keltner_channel_strategy(stock_df)\n",
    "cmf_signals_df = all_Strategies.cmf_signals(stock_df)\n",
    "eom_signals_df = all_Strategies.eom_signals(stock_df)\n",
    "mfi_signals_df = all_Strategies.mfi_signals(stock_df)\n",
    "strategy_w5_8_13_df = all_Strategies.strategy_w5_8_13(stock_df)\n",
    "\n",
    "\n",
    "# Concatenate the results into one large DataFrame\n",
    "all_signals_df = pd.concat([strategy_w5_8_13_df, mfi_signals_df, eom_signals_df, cmf_signals_df, keltner_channel_strategy_df, atr_signals_df, cmf_signals_df, strategy_5_8_13_df, short_ma_signals_df, golden_ma_signals_df, macd_signals_df, kst_signals_df, ichimoku_signals_df, ema_signals_df, dpo_signals_df, cci_signals_df, aroon_signals_df, roc_signals_df, rsi_signals_df, stochrsi_signals_df, stoch_signals_df, tsi_signals_df, williams_signals_df, kama_cross_signals_df, ppo_signals_df, awesome_oscillator_signals_df], axis=1)\n",
    "print(all_signals_df)"
   ]
  },
  {
   "cell_type": "code",
   "execution_count": 7,
   "metadata": {},
   "outputs": [],
   "source": [
    "# Analyst Rating and Events\n"
   ]
  },
  {
   "cell_type": "code",
   "execution_count": 8,
   "metadata": {},
   "outputs": [],
   "source": [
    "# Pre-process Data\n"
   ]
  },
  {
   "cell_type": "code",
   "execution_count": 9,
   "metadata": {},
   "outputs": [],
   "source": [
    "# Models\n"
   ]
  },
  {
   "cell_type": "code",
   "execution_count": 10,
   "metadata": {},
   "outputs": [],
   "source": [
    "# Predict Buy/Sell Condition\n"
   ]
  },
  {
   "cell_type": "code",
   "execution_count": 11,
   "metadata": {},
   "outputs": [],
   "source": [
    "# Evaluate\n"
   ]
  }
 ],
 "metadata": {
  "kernelspec": {
   "display_name": "base",
   "language": "python",
   "name": "python3"
  },
  "language_info": {
   "codemirror_mode": {
    "name": "ipython",
    "version": 3
   },
   "file_extension": ".py",
   "mimetype": "text/x-python",
   "name": "python",
   "nbconvert_exporter": "python",
   "pygments_lexer": "ipython3",
   "version": "3.10.9"
  },
  "orig_nbformat": 4
 },
 "nbformat": 4,
 "nbformat_minor": 2
}
