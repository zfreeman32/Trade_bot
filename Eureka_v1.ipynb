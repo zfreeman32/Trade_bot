{
 "cells": [
  {
   "cell_type": "code",
   "execution_count": 14,
   "metadata": {},
   "outputs": [],
   "source": [
    "# Read in Library\n",
    "import pandas as pd\n",
    "import numpy as np\n",
    "import pandas as pd\n",
    "import statistics\n",
    "import matplotlib.pyplot as plt\n",
    "import pandas as pd\n",
    "from ta import add_all_ta_features\n",
    "from ta import momentum\n"
   ]
  },
  {
   "cell_type": "code",
   "execution_count": 3,
   "metadata": {},
   "outputs": [],
   "source": [
    "# Read in Price Data\n",
    "csv_file = 'SPY.csv'\n",
    "stock_df = pd.read_csv(csv_file)\n"
   ]
  },
  {
   "cell_type": "code",
   "execution_count": 4,
   "metadata": {},
   "outputs": [],
   "source": [
    "# Stock Financial Data\n"
   ]
  },
  {
   "cell_type": "markdown",
   "metadata": {},
   "source": [
    "Load Indicators"
   ]
  },
  {
   "cell_type": "code",
   "execution_count": 5,
   "metadata": {},
   "outputs": [
    {
     "name": "stderr",
     "output_type": "stream",
     "text": [
      "c:\\Users\\zebfr\\anaconda3\\envs\\tradebot\\Lib\\site-packages\\ta\\trend.py:780: RuntimeWarning: invalid value encountered in scalar divide\n",
      "  dip[idx] = 100 * (self._dip[idx] / value)\n",
      "c:\\Users\\zebfr\\anaconda3\\envs\\tradebot\\Lib\\site-packages\\ta\\trend.py:785: RuntimeWarning: invalid value encountered in scalar divide\n",
      "  din[idx] = 100 * (self._din[idx] / value)\n"
     ]
    }
   ],
   "source": [
    "# Indicators\n",
    "indicators_df = pd.DataFrame(index=stock_df.index)\n",
    "\n",
    "# Add all technical indicators using TA library\n",
    "indicators_df = add_all_ta_features(\n",
    "    stock_df, open=\"Open\", high=\"High\", low=\"Low\", close=\"Close\", volume=\"Volume\", fillna=False\n",
    ")\n"
   ]
  },
  {
   "cell_type": "markdown",
   "metadata": {},
   "source": [
    "STRATEGIES"
   ]
  },
  {
   "cell_type": "code",
   "execution_count": 6,
   "metadata": {},
   "outputs": [
    {
     "name": "stdout",
     "output_type": "stream",
     "text": [
      "      Ao_signal\n",
      "0             0\n",
      "1             0\n",
      "2             0\n",
      "3             0\n",
      "4             0\n",
      "...         ...\n",
      "7636          0\n",
      "7637          0\n",
      "7638          0\n",
      "7639          0\n",
      "7640          0\n",
      "\n",
      "[7641 rows x 1 columns]\n"
     ]
    }
   ],
   "source": [
    "# Awesome Oscilator 0 cross\n",
    "def Awesome_Oscillator_signals(stock_df):\n",
    "    # Define buy and sell signals\n",
    "    signals = pd.DataFrame(index=stock_df.index)\n",
    "    signals['Ao_signal'] = 0  # Initialize all signals to 0\n",
    "\n",
    "    for i in range(1, len(stock_df)):\n",
    "        if (\n",
    "            stock_df['momentum_ao'].iloc[i-1] < 0 and\n",
    "            stock_df['momentum_ao'].iloc[i] >= 0\n",
    "        ):\n",
    "            signals['Ao_signal'].iloc[i] = 1  # Buy signal\n",
    "        elif (\n",
    "            stock_df['momentum_ao'].iloc[i-1] >= 0 and\n",
    "            stock_df['momentum_ao'].iloc[i] < 0\n",
    "        ):\n",
    "            signals['Ao_signal'].iloc[i] = -1  # Sell signal\n",
    "    return signals\n",
    "\n",
    "ao_signals = pd.DataFrame(Awesome_Oscillator_signals(stock_df))\n",
    "print(ao_signals)\n"
   ]
  },
  {
   "cell_type": "code",
   "execution_count": 16,
   "metadata": {},
   "outputs": [
    {
     "name": "stdout",
     "output_type": "stream",
     "text": [
      "      kama_signal\n",
      "0               0\n",
      "1               0\n",
      "2               0\n",
      "3               0\n",
      "4               0\n",
      "...           ...\n",
      "7636            0\n",
      "7637            0\n",
      "7638            0\n",
      "7639            0\n",
      "7640            0\n",
      "\n",
      "[7641 rows x 1 columns]\n"
     ]
    }
   ],
   "source": [
    "# KAMA Fast/Slow Cross\n",
    "def kama_cross_signals(stock_df, fast_period=10, slow_period=20):\n",
    "    signals = pd.DataFrame(index=stock_df.index)\n",
    "    signals['kama_signal'] = 0\n",
    "\n",
    "    # Calculate Fast KAMA\n",
    "    fast_kama = momentum.kama(stock_df['Close'], window=fast_period)\n",
    "\n",
    "    # Calculate Slow KAMA\n",
    "    slow_kama = momentum.kama(stock_df['Close'], window=slow_period)\n",
    "    for i in range(1, len(stock_df)):\n",
    "        if fast_kama[i] > slow_kama[i] and fast_kama[i - 1] <= slow_kama[i - 1] and stock_df['Close'][i] > fast_kama[i]:\n",
    "            signals['kama_signal'].iloc[i] = 1  # Buy signal (fast KAMA above slow KAMA and price above fast KAMA)\n",
    "        elif fast_kama[i] < slow_kama[i] and fast_kama[i - 1] >= slow_kama[i - 1] and stock_df['Close'][i] < fast_kama[i]:\n",
    "            signals['kama_signal'].iloc[i] = -1  # Sell signal (fast KAMA below slow KAMA and price below fast KAMA)\n",
    "        elif stock_df['Close'][i] > fast_kama[i] and stock_df['Close'][i - 1] <= fast_kama[i - 1]:\n",
    "            stock_df.loc[i, 'Signal'] = 1  # Buy signal (price crosses above KAMA)\n",
    "        elif stock_df['Close'][i] < fast_kama[i] and stock_df['Close'][i - 1] >= fast_kama[i - 1]:\n",
    "            stock_df.loc[i, 'Signal'] = -1\n",
    "\n",
    "    return signals\n",
    "\n",
    "kama_signals = pd.DataFrame(kama_cross_signals(stock_df, fast_period=10, slow_period=20))\n",
    "print(kama_signals)"
   ]
  },
  {
   "cell_type": "code",
   "execution_count": null,
   "metadata": {},
   "outputs": [],
   "source": [
    "# PPO\n",
    "\n",
    "def ppo_signals(stock_data, fast_window=12, slow_window=26, signal_window=9):\n",
    "    signals = pd.DataFrame(index=stock_data.index)\n",
    "    signals['PPO_signal'] = 0\n",
    "\n",
    "    ppo = momentum.PercentagePriceOscillator(stock_data['Close'], fast_window, slow_window, signal_window)\n",
    "\n",
    "    ppo_values = ppo.ppo()\n",
    "    ppo_signal = ppo.ppo_signal()\n",
    "\n",
    "    # Generate buy (1) and sell (-1) signals based on PPO and its signal line\n",
    "    for i in range(1, len(stock_data)):\n",
    "        if ppo_values[i] > ppo_signal[i] and ppo_values[i - 1] <= ppo_signal[i - 1]:\n",
    "            signals.loc[stock_data.index[i], 'PPO_signal'] = 1  # Buy signal (PPO crosses above signal line)\n",
    "        elif ppo_values[i] < ppo_signal[i] and ppo_values[i - 1] >= ppo_signal[i - 1]:\n",
    "            signals.loc[stock_data.index[i], 'PPO_signal'] = -1  # Sell signal (PPO crosses below signal line)\n",
    "\n",
    "    return signals\n",
    "\n",
    "ppo_signals = pd.DataFrame(ppo_signals(stock_df))\n",
    "print(ppo_signals)"
   ]
  },
  {
   "cell_type": "code",
   "execution_count": 7,
   "metadata": {},
   "outputs": [],
   "source": [
    "# Analyst Rating and Events\n"
   ]
  },
  {
   "cell_type": "code",
   "execution_count": 8,
   "metadata": {},
   "outputs": [],
   "source": [
    "# Pre-process Data\n"
   ]
  },
  {
   "cell_type": "code",
   "execution_count": 9,
   "metadata": {},
   "outputs": [],
   "source": [
    "# Models\n"
   ]
  },
  {
   "cell_type": "code",
   "execution_count": 10,
   "metadata": {},
   "outputs": [],
   "source": [
    "# Predict Buy/Sell Condition\n"
   ]
  },
  {
   "cell_type": "code",
   "execution_count": 11,
   "metadata": {},
   "outputs": [],
   "source": [
    "# Evaluate\n"
   ]
  }
 ],
 "metadata": {
  "kernelspec": {
   "display_name": "base",
   "language": "python",
   "name": "python3"
  },
  "language_info": {
   "codemirror_mode": {
    "name": "ipython",
    "version": 3
   },
   "file_extension": ".py",
   "mimetype": "text/x-python",
   "name": "python",
   "nbconvert_exporter": "python",
   "pygments_lexer": "ipython3",
   "version": "3.11.4"
  },
  "orig_nbformat": 4
 },
 "nbformat": 4,
 "nbformat_minor": 2
}
